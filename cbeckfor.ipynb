{
 "cells": [
  {
   "cell_type": "code",
   "execution_count": 1,
   "metadata": {},
   "outputs": [
    {
     "name": "stdout",
     "output_type": "stream",
     "text": [
      "IPython version:      %6.6s 8.3.0\n"
     ]
    }
   ],
   "source": [
    "import IPython\n",
    "import json\n",
    "# Numpy is a library for working with Arrays\n",
    "import numpy as np\n",
    "# SciPy implements many different numerical algorithms\n",
    "import scipy as sp\n",
    "# Pandas is good with data tables\n",
    "import pandas as pd\n",
    "# Module for plotting\n",
    "import matplotlib\n",
    "#BeautifulSoup parses HTML documents (once you get them via requests)\n",
    "import bs4\n",
    "# Nltk helps with some natural language tasks, like stemming\n",
    "import nltk\n",
    "# Bson is a binary format of json to be stored in databases\n",
    "import bson\n",
    "# Mongo is one of common nosql databases \n",
    "# it stores/searches json documents natively\n",
    "import pymongo\n",
    "print (\"IPython version:      %6.6s\", IPython.__version__)"
   ]
  },
  {
   "cell_type": "code",
   "execution_count": 2,
   "metadata": {},
   "outputs": [
    {
     "name": "stdout",
     "output_type": "stream",
     "text": [
      "Make a 2 row x 3 column array of random numbers\n",
      "[[0.79603155 0.21327642 0.75594534]\n",
      " [0.2065643  0.25984603 0.99181526]]\n",
      "Add 5 to every element\n",
      "[[5.79603155 5.21327642 5.75594534]\n",
      " [5.2065643  5.25984603 5.99181526]]\n",
      "Get the first row\n",
      "[5.79603155 5.21327642 5.75594534]\n"
     ]
    }
   ],
   "source": [
    "#Here is what numpy can do\\n\",\n",
    "print (\"Make a 2 row x 3 column array of random numbers\")\n",
    "x = np.random.random((2, 3))\n",
    "print (x)\n",
    "\n",
    "#array operation (as in R)\n",
    "print (\"Add 5 to every element\")\n",
    "x = x + 5\n",
    "print (x)\n",
    "\n",
    "# get a slice (first row) (as in R)\n",
    "print (\"Get the first row\")\n",
    "print (x[0, :])"
   ]
  },
  {
   "cell_type": "code",
   "execution_count": 3,
   "metadata": {},
   "outputs": [
    {
     "data": {
      "text/plain": [
       "<function ndarray.any>"
      ]
     },
     "execution_count": 3,
     "metadata": {},
     "output_type": "execute_result"
    }
   ],
   "source": [
    "# IPython is quite modern: just press <TAB> at the end of the unfinished statement to see the documentation\n",
    "#       on possible completions.\n",
    "#       In the code cell below, type x.<TAB>, to find built-in operations for x\n",
    "x.any"
   ]
  },
  {
   "cell_type": "code",
   "execution_count": 3,
   "metadata": {},
   "outputs": [
    {
     "data": {
      "image/png": "[encoded data removed]",
      "text/plain": [
       "<Figure size 432x288 with 1 Axes>"
      ]
     },
     "metadata": {
      "needs_background": "light"
     },
     "output_type": "display_data"
    }
   ],
   "source": [
    "%matplotlib inline \n",
    "import matplotlib.pyplot as plt\n",
    "heads = np.random.binomial(500, .5, size=500)\n",
    "histogram = plt.hist(heads, bins=10)"
   ]
  },
  {
   "cell_type": "markdown",
   "metadata": {
    "collapsed": true
   },
   "source": [
    "# Task 1\n",
    "## write a program to produce Fibonacci numbers up to 1000000"
   ]
  },
  {
   "cell_type": "code",
   "execution_count": 13,
   "metadata": {},
   "outputs": [
    {
     "name": "stdout",
     "output_type": "stream",
     "text": [
      "The Fibonacci numbers less than 1000,000 are:\n",
      "0\n",
      "1\n",
      "1\n",
      "2\n",
      "3\n",
      "5\n",
      "8\n",
      "13\n",
      "21\n",
      "34\n",
      "55\n",
      "89\n",
      "144\n",
      "233\n",
      "377\n",
      "610\n",
      "987\n",
      "1597\n",
      "2584\n",
      "4181\n",
      "6765\n",
      "10946\n",
      "17711\n",
      "28657\n",
      "46368\n",
      "75025\n",
      "121393\n",
      "196418\n",
      "317811\n",
      "514229\n",
      "832040\n"
     ]
    }
   ],
   "source": [
    "num_1, num_2 = 0, 1\n",
    "print(\"The Fibonacci numbers less than 1000,000 are:\")\n",
    "print(num_1)\n",
    "while num_2 < 1000000:\n",
    "    print(num_2)\n",
    "    num_1, num_2 = num_2, num_1 + num_2"
   ]
  },
  {
   "cell_type": "markdown",
   "metadata": {},
   "source": [
    "# Task 2\n",
    "## write a program to simulate 1000 tosses of a fair coin (use np.random.binomial)\n",
    "## Calculate the mean and standard deviation of that sample"
   ]
  },
  {
   "cell_type": "code",
   "execution_count": 107,
   "metadata": {},
   "outputs": [
    {
     "name": "stdout",
     "output_type": "stream",
     "text": [
      "The mean proportion of heads that appear in 1000 tosses of a fair coin \n",
      "is 0.48 and the sample standard deviation is 0.4998087722.\n",
      "We note that the expected proportion of heads that appear in 1000 tosses of a fair coin \n",
      "is 0.50 and the standard deviation is 0.50.\n"
     ]
    }
   ],
   "source": [
    "#Let 0 denote heads and 1 denote tails.\n",
    "#T will be the number of flips that land with heads up. \n",
    "T = 0\n",
    "for i in range(1000):\n",
    "    T += np.random.binomial(1,.5)\n",
    "#The formula for the standard deviation of a sample is sqrt(summation(x_i-sample_mean)**2/n-1)\n",
    "x = T/1000\n",
    "s = np.sqrt((T*(1-x)**2+(1000-T)*x**2)/(1000-1))\n",
    "print(\"The mean proportion of heads that appear in 1000 tosses of a fair coin \\nis %.2f and the sample standard deviation is %.10f.\" % (x,s))\n",
    "\n",
    "sigma = np.sqrt(1000*.5*.5)\n",
    "print(\"We note that the expected proportion of heads that appear in 1000 tosses of a fair coin \\nis %.2f and the standard deviation is %.2f.\" %(.5,np.sqrt(.5*.5)))"
   ]
  },
  {
   "cell_type": "markdown",
   "metadata": {},
   "source": [
    "# Task 3\n",
    "## Produce a scatterplot of y = 0.5*x+e where x has gaussian (0, 5) and e has gaussian (0, 1) distributions \n",
    "### use numpy.random.normal to generate gaussian distribution"
   ]
  },
  {
   "cell_type": "code",
   "execution_count": 138,
   "metadata": {},
   "outputs": [
    {
     "data": {
      "image/png": "[encoded data removed]",
      "text/plain": [
       "<Figure size 432x288 with 1 Axes>"
      ]
     },
     "metadata": {
      "needs_background": "light"
     },
     "output_type": "display_data"
    }
   ],
   "source": [
    "#Initialize lists that will hold the x-points and the y-points.\n",
    "x, y = [], []\n",
    "#The user species number of data points for the scatterplot.\n",
    "n=100\n",
    "for i in range(n):\n",
    "    temp = np.random.normal(0,5)\n",
    "    x.append(temp)\n",
    "    e = np.random.normal(0,1)\n",
    "    y.append(0.5*temp+e)\n",
    "\n",
    "#plt.yticks(np.arange(-5, 7, 0.5))\n",
    "plt.xlabel(\"x~Gauss(0,5)\")\n",
    "plt.ylabel('y=0.5*x+e\\ne~Gauss(0,1)')\n",
    "plt.title('Scatterplot')\n",
    "plt.scatter(x,y)\n",
    "plt.show()"
   ]
  }
 ],
 "metadata": {
  "kernelspec": {
   "display_name": "Python 3 (ipykernel)",
   "language": "python",
   "name": "python3"
  },
  "language_info": {
   "codemirror_mode": {
    "name": "ipython",
    "version": 3
   },
   "file_extension": ".py",
   "mimetype": "text/x-python",
   "name": "python",
   "nbconvert_exporter": "python",
   "pygments_lexer": "ipython3",
   "version": "3.8.10"
  }
 },
 "nbformat": 4,
 "nbformat_minor": 1
}
