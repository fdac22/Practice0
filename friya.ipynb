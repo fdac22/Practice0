{
  "cells": [
    {
      "cell_type": "code",
      "execution_count": 1,
      "metadata": {
        "colab": {
          "base_uri": "https://localhost:8080/"
        },
        "id": "8S6cN1nUXmWI",
        "outputId": "10d1468b-aa54-43d4-c86f-87e77704f340"
      },
      "outputs": [
        {
          "name": "stdout",
          "output_type": "stream",
          "text": [
            "IPython version:      %6.6s 7.9.0\n"
          ]
        }
      ],
      "source": [
        "import IPython\n",
        "import json\n",
        "# Numpy is a library for working with Arrays\n",
        "import numpy as np\n",
        "# SciPy implements many different numerical algorithms\n",
        "import scipy as sp\n",
        "# Pandas is good with data tables\n",
        "import pandas as pd\n",
        "# Module for plotting\n",
        "import matplotlib\n",
        "#BeautifulSoup parses HTML documents (once you get them via requests)\n",
        "import bs4\n",
        "# Nltk helps with some natural language tasks, like stemming\n",
        "import nltk\n",
        "# Bson is a binary format of json to be stored in databases\n",
        "import bson\n",
        "# Mongo is one of common nosql databases \n",
        "# it stores/searches json documents natively\n",
        "import pymongo\n",
        "print (\"IPython version:      %6.6s\", IPython.__version__)"
      ]
    },
    {
      "cell_type": "code",
      "execution_count": 2,
      "metadata": {
        "colab": {
          "base_uri": "https://localhost:8080/"
        },
        "id": "eYX2BWp4XmWJ",
        "outputId": "c9b4a72c-e2c8-4d54-875a-6387ccfad12c"
      },
      "outputs": [
        {
          "name": "stdout",
          "output_type": "stream",
          "text": [
            "Make a 2 row x 3 column array of random numbers\n",
            "[[0.45141464 0.4242277  0.64571898]\n",
            " [0.60234656 0.62445531 0.23055866]]\n",
            "Add 5 to every element\n",
            "[[5.45141464 5.4242277  5.64571898]\n",
            " [5.60234656 5.62445531 5.23055866]]\n",
            "Get the first row\n",
            "[5.45141464 5.4242277  5.64571898]\n"
          ]
        }
      ],
      "source": [
        "#Here is what numpy can do\\n\",\n",
        "print (\"Make a 2 row x 3 column array of random numbers\")\n",
        "x = np.random.random((2, 3))\n",
        "print (x)\n",
        "\n",
        "#array operation (as in R)\n",
        "print (\"Add 5 to every element\")\n",
        "x = x + 5\n",
        "print (x)\n",
        "\n",
        "# get a slice (first row) (as in R)\n",
        "print (\"Get the first row\")\n",
        "print (x[0, :])"
      ]
    },
    {
      "cell_type": "code",
      "execution_count": 3,
      "metadata": {
        "colab": {
          "base_uri": "https://localhost:8080/"
        },
        "id": "EgwAHwr5XmWJ",
        "outputId": "a2a8c748-a477-44bf-b5df-11c466c4521c"
      },
      "outputs": [
        {
          "data": {
            "text/plain": [
              "<function ndarray.any>"
            ]
          },
          "execution_count": 3,
          "metadata": {},
          "output_type": "execute_result"
        }
      ],
      "source": [
        "# IPython is quite modern: just press <TAB> at the end of the unfinished statement to see the documentation\n",
        "#       on possible completions.\n",
        "#       In the code cell below, type x.<TAB>, to find built-in operations for x\n",
        "x.any"
      ]
    },
    {
      "cell_type": "code",
      "execution_count": 4,
      "metadata": {
        "colab": {
          "base_uri": "https://localhost:8080/",
          "height": 265
        },
        "id": "3MT2ty5fXmWJ",
        "outputId": "b495bd24-555c-4582-f184-740001385b9d"
      },
      "outputs": [
        {
          "data": {
            "image/png": "[encoded data removed]",
            "text/plain": [
              "<Figure size 432x288 with 1 Axes>"
            ]
          },
          "metadata": {
            "needs_background": "light"
          },
          "output_type": "display_data"
        }
      ],
      "source": [
        "%matplotlib inline \n",
        "import matplotlib.pyplot as plt\n",
        "heads = np.random.binomial(500, .5, size=500)\n",
        "histogram = plt.hist(heads, bins=10)"
      ]
    },
    {
      "cell_type": "markdown",
      "metadata": {
        "collapsed": true,
        "id": "x3mudxDPXmWK"
      },
      "source": [
        "# Task 1\n",
        "## write a program to produce Fibonacci numbers up to 1000000"
      ]
    },
    {
      "cell_type": "code",
      "execution_count": null,
      "metadata": {
        "colab": {
          "base_uri": "https://localhost:8080/"
        },
        "collapsed": true,
        "id": "PqhnDOTKXmWK",
        "outputId": "0160bfe7-14a4-4d03-fbba-58452c445008"
      },
      "outputs": [],
      "source": [
        "import numpy as np\n",
        "import scipy as sp\n",
        "import pandas as pd\n",
        "\n",
        "from numpy import random\n",
        "import matplotlib.pyplot as plt\n",
        "\n",
        "input=10000\n",
        "j=[]\n",
        "def Fib(input):\n",
        "  if input == 0:\n",
        "    return 0\n",
        "\n",
        "  elif input == 1 or input == 2:\n",
        "    return 1\n",
        "\n",
        "  else:\n",
        "    return Fib(input-1) + Fib(input-2)\n",
        "for i in range (input):  \n",
        "  j.append(Fib(i))\n",
        "print(j)  "
      ]
    },
    {
      "cell_type": "markdown",
      "metadata": {
        "id": "lEUAKuDcXmWK"
      },
      "source": [
        "# Task 2\n",
        "## write a program to simulate 1000 tosses of a fair coin (use np.random.binomial)\n",
        "## Calculate the mean and standard deviation of that sample"
      ]
    },
    {
      "cell_type": "code",
      "execution_count": null,
      "metadata": {
        "colab": {
          "base_uri": "https://localhost:8080/"
        },
        "collapsed": true,
        "id": "2oLLghJgXmWL",
        "outputId": "0be92456-891c-4b5e-cb38-3d18864ec228"
      },
      "outputs": [],
      "source": [
        "import numpy as np\n",
        "import pandas as pd\n",
        "from numpy import random\n",
        "import matplotlib.pyplot as plt\n",
        "\n",
        "samples = np.random.binomial(1, 0.5, 1000)\n",
        "print(\"Mean= \", samples.mean())\n",
        "print(\"Standard Deviation= \", samples.std())"
      ]
    },
    {
      "cell_type": "markdown",
      "metadata": {
        "id": "BF7QYN4SXmWL"
      },
      "source": [
        "# Task 3\n",
        "## Produce a scatterplot of y = 0.5*x+e where x has gaussian (0, 5) and e has gaussian (0, 1) distributions \n",
        "### use numpy.random.normal to generate gaussian distribution"
      ]
    },
    {
      "cell_type": "code",
      "execution_count": null,
      "metadata": {
        "colab": {
          "base_uri": "https://localhost:8080/",
          "height": 266
        },
        "collapsed": true,
        "id": "hDN1uWMWXmWL",
        "outputId": "7f9b5886-b663-4305-b55a-01810497d376"
      },
      "outputs": [],
      "source": [
        "import numpy as np\n",
        "import scipy as sp\n",
        "import pandas as pd\n",
        "\n",
        "from numpy import random\n",
        "import matplotlib.pyplot as plt\n",
        "\n",
        "x = random.normal(0,5, 500)\n",
        "e= x = random.normal(0,1, 500)\n",
        "\n",
        "y= 0.5*x+e\n",
        "print(y)\n",
        "\n",
        "plt.scatter(x, y,alpha=0.5)\n",
        "plt.show()"
      ]
    },
    {
      "cell_type": "code",
      "execution_count": 7,
      "metadata": {
        "id": "EI7mDX2LXyyR"
      },
      "outputs": [],
      "source": []
    }
  ],
  "metadata": {
    "colab": {
      "provenance": []
    },
    "kernelspec": {
      "display_name": "Python 3",
      "language": "python",
      "name": "python3"
    },
    "language_info": {
      "codemirror_mode": {
        "name": "ipython",
        "version": 3
      },
      "file_extension": ".py",
      "mimetype": "text/x-python",
      "name": "python",
      "nbconvert_exporter": "python",
      "pygments_lexer": "ipython3",
      "version": "3.5.2"
    }
  },
  "nbformat": 4,
  "nbformat_minor": 0
}
