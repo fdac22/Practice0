{
 "cells": [
  {
   "cell_type": "code",
   "execution_count": 1,
   "metadata": {},
   "outputs": [
    {
     "name": "stdout",
     "output_type": "stream",
     "text": [
      "IPython version:      %6.6s 8.3.0\n"
     ]
    }
   ],
   "source": [
    "import IPython\n",
    "import json\n",
    "# Numpy is a library for working with Arrays\n",
    "import numpy as np\n",
    "# SciPy implements many different numerical algorithms\n",
    "import scipy as sp\n",
    "# Pandas is good with data tables\n",
    "import pandas as pd\n",
    "# Module for plotting\n",
    "import matplotlib\n",
    "#BeautifulSoup parses HTML documents (once you get them via requests)\n",
    "import bs4\n",
    "# Nltk helps with some natural language tasks, like stemming\n",
    "import nltk\n",
    "# Bson is a binary format of json to be stored in databases\n",
    "import bson\n",
    "# Mongo is one of common nosql databases \n",
    "# it stores/searches json documents natively\n",
    "import pymongo\n",
    "print (\"IPython version:      %6.6s\", IPython.__version__)"
   ]
  },
  {
   "cell_type": "code",
   "execution_count": 2,
   "metadata": {},
   "outputs": [
    {
     "name": "stdout",
     "output_type": "stream",
     "text": [
      "Make a 2 row x 3 column array of random numbers\n",
      "[[0.77431735 0.10357026 0.77624527]\n",
      " [0.32241611 0.81962077 0.87477252]]\n",
      "Add 5 to every element\n",
      "[[5.77431735 5.10357026 5.77624527]\n",
      " [5.32241611 5.81962077 5.87477252]]\n",
      "Get the first row\n",
      "[5.77431735 5.10357026 5.77624527]\n"
     ]
    }
   ],
   "source": [
    "#Here is what numpy can do\\n\",\n",
    "print (\"Make a 2 row x 3 column array of random numbers\")\n",
    "x = np.random.random((2, 3))\n",
    "print (x)\n",
    "\n",
    "#array operation (as in R)\n",
    "print (\"Add 5 to every element\")\n",
    "x = x + 5\n",
    "print (x)\n",
    "\n",
    "# get a slice (first row) (as in R)\n",
    "print (\"Get the first row\")\n",
    "print (x[0, :])"
   ]
  },
  {
   "cell_type": "code",
   "execution_count": 3,
   "metadata": {},
   "outputs": [
    {
     "data": {
      "text/plain": [
       "<function ndarray.any>"
      ]
     },
     "execution_count": 3,
     "metadata": {},
     "output_type": "execute_result"
    }
   ],
   "source": [
    "# IPython is quite modern: just press <TAB> at the end of the unfinished statement to see the documentation\n",
    "#       on possible completions.\n",
    "#       In the code cell below, type x.<TAB>, to find built-in operations for x\n",
    "x.any"
   ]
  },
  {
   "cell_type": "code",
   "execution_count": 4,
   "metadata": {},
   "outputs": [
    {
     "data": {
      "image/png": "[encoded data removed]",
      "text/plain": [
       "<Figure size 432x288 with 1 Axes>"
      ]
     },
     "metadata": {
      "needs_background": "light"
     },
     "output_type": "display_data"
    }
   ],
   "source": [
    "%matplotlib inline \n",
    "import matplotlib.pyplot as plt\n",
    "heads = np.random.binomial(500, .5, size=500)\n",
    "histogram = plt.hist(heads, bins=10)"
   ]
  },
  {
   "cell_type": "markdown",
   "metadata": {
    "collapsed": true
   },
   "source": [
    "# Task 1\n",
    "## write a program to produce Fibonacci numbers up to 1000000"
   ]
  },
  {
   "cell_type": "code",
   "execution_count": 5,
   "metadata": {},
   "outputs": [
    {
     "name": "stdout",
     "output_type": "stream",
     "text": [
      "[0, 1, 1, 2, 3, 5, 8, 13, 21, 34, 55, 89, 144, 233, 377, 610, 987, 1597, 2584, 4181, 6765, 10946, 17711, 28657, 46368, 75025, 121393, 196418, 317811, 514229, 832040]\n"
     ]
    }
   ],
   "source": [
    "## %time\n",
    "#Code adapted from https://www.geeksforgeeks.org/find-nth-fibonacci-number-using-golden-ratio/\n",
    "\n",
    "#Uses the golden ratio method (faster than recursive). \n",
    "#As long as n < 34, it should be accurate due to floating point calculations\n",
    "import math\n",
    "PHI =  math.sqrt(5)\n",
    "def fibonacci(nr):\n",
    "    ratio = (1 + PHI) / 2\n",
    "    return int(ratio ** nr / PHI + 0.5)\n",
    "\n",
    "FIBONACCI = [fibonacci(i) for i in range(31)]\n",
    "\n",
    "print(FIBONACCI)\n",
    "    "
   ]
  },
  {
   "cell_type": "code",
   "execution_count": 6,
   "metadata": {
    "scrolled": true
   },
   "outputs": [
    {
     "name": "stdout",
     "output_type": "stream",
     "text": [
      "[0, 1, 1, 2, 3, 5, 8, 13, 21, 34, 55, 89, 144, 233, 377, 610, 987, 1597, 2584, 4181, 6765, 10946, 17711, 28657, 46368, 75025, 121393, 196418, 317811, 514229, 832040]\n"
     ]
    }
   ],
   "source": [
    "#this ends up taking way too much time to run\n",
    "#adapted from https://www.educative.io/answers/how-to-implement-the-fibonacci-sequence-in-python\n",
    "def fib(term):\n",
    "   if term <= 1:\n",
    "       return (term)\n",
    "   else:\n",
    "       return (fib(term-1) + fib(term-2))\n",
    " \n",
    "fib2 = [fib(i) for i in range(31)]\n",
    "print(fib2)\n"
   ]
  },
  {
   "cell_type": "markdown",
   "metadata": {},
   "source": [
    "# Task 2\n",
    "## write a program to simulate 1000 tosses of a fair coin (use np.random.binomial)\n",
    "## Calculate the mean and standard deviation of that sample"
   ]
  },
  {
   "cell_type": "code",
   "execution_count": 7,
   "metadata": {},
   "outputs": [
    {
     "name": "stdout",
     "output_type": "stream",
     "text": [
      "The mean of 1000 simulated coin tosses 1000 times is: 499.843\n",
      "The standard deviaiton is 15.910510708333659\n"
     ]
    }
   ],
   "source": [
    "#code adapted from https://numpy.org/doc/stable/reference/random/generated/numpy.random.binomial.html &\n",
    "#  https://cmdlinetips.com/2018/12/simulating-coin-toss-experiment-with-binomial-random-numbers-using-numpy/\n",
    "# Fixing random state for reproducibility\n",
    "np.random.seed(2022)\n",
    "\n",
    "#The outcome could represent either heads or tails, as the probablity is split 50/50\n",
    "n, p = 1000, .5  # number of trials, probability of each trial\n",
    "s = np.random.binomial(n, p, 1000)\n",
    "\n",
    "print(f'The mean of 1000 simulated coin tosses {len(s)} times is: {s.mean()}\\nThe standard deviaiton is {s.std()}')\n"
   ]
  },
  {
   "cell_type": "code",
   "execution_count": 8,
   "metadata": {},
   "outputs": [
    {
     "data": {
      "text/plain": [
       "array([484, 504, 516, 501, 496, 551, 480, 489, 484, 512, 494, 515, 558,\n",
       "       493, 486, 502, 502, 501, 513, 475, 476, 493, 501, 530, 490, 509,\n",
       "       526, 506, 471, 493, 506, 488, 491, 512, 473, 501, 525, 515, 461,\n",
       "       476, 531, 503, 504, 488, 474, 503, 505, 485, 499, 510, 484, 472,\n",
       "       512, 482, 535, 523, 496, 488, 489, 489, 497, 511, 497, 489, 490,\n",
       "       501, 499, 481, 496, 476, 513, 494, 504, 480, 476, 490, 513, 499,\n",
       "       498, 481, 499, 485, 510, 526, 520, 515, 462, 478, 488, 479, 491,\n",
       "       504, 521, 498, 477, 499, 468, 497, 489, 485, 493, 494, 495, 497,\n",
       "       510, 490, 510, 532, 509, 518, 510, 511, 518, 493, 512, 499, 501,\n",
       "       531, 526, 481, 493, 495, 496, 512, 485, 514, 530, 491, 490, 499,\n",
       "       502, 466, 496, 513, 511, 471, 502, 515, 452, 490, 492, 523, 486,\n",
       "       511, 470, 508, 494, 511, 506, 511, 501, 514, 510, 500, 502, 484,\n",
       "       510, 506, 526, 514, 498, 503, 468, 495, 503, 501, 498, 503, 500,\n",
       "       528, 465, 502, 507, 503, 528, 518, 466, 469, 512, 483, 506, 506,\n",
       "       490, 508, 491, 496, 495, 484, 526, 488, 488, 512, 512, 530, 521,\n",
       "       465, 492, 493, 549, 481, 476, 518, 523, 515, 513, 491, 502, 509,\n",
       "       510, 519, 510, 522, 515, 501, 480, 492, 491, 480, 496, 504, 481,\n",
       "       499, 508, 509, 505, 515, 505, 495, 503, 504, 474, 502, 499, 532,\n",
       "       507, 497, 512, 517, 496, 503, 486, 495, 499, 514, 496, 501, 505,\n",
       "       489, 487, 517, 487, 479, 551, 496, 510, 545, 496, 496, 507, 503,\n",
       "       500, 488, 494, 481, 506, 496, 511, 502, 482, 508, 497, 507, 495,\n",
       "       516, 509, 504, 525, 518, 491, 508, 527, 488, 481, 492, 488, 500,\n",
       "       494, 485, 514, 495, 472, 493, 478, 505, 512, 504, 505, 492, 527,\n",
       "       490, 492, 488, 469, 501, 493, 493, 473, 472, 492, 484, 517, 497,\n",
       "       484, 526, 495, 531, 488, 486, 487, 484, 498, 536, 503, 479, 480,\n",
       "       532, 492, 481, 489, 491, 492, 506, 502, 478, 493, 504, 509, 524,\n",
       "       498, 502, 503, 496, 487, 520, 493, 472, 536, 476, 505, 486, 497,\n",
       "       463, 485, 498, 498, 492, 484, 485, 509, 479, 479, 498, 527, 513,\n",
       "       467, 488, 515, 503, 507, 491, 485, 511, 506, 513, 505, 503, 527,\n",
       "       488, 510, 523, 516, 479, 491, 506, 496, 510, 530, 518, 510, 497,\n",
       "       486, 517, 492, 489, 512, 513, 508, 511, 521, 491, 487, 507, 477,\n",
       "       517, 529, 515, 494, 497, 500, 497, 490, 522, 511, 494, 512, 519,\n",
       "       518, 489, 494, 477, 483, 488, 504, 447, 496, 512, 492, 499, 501,\n",
       "       515, 508, 486, 497, 511, 528, 487, 501, 521, 503, 504, 502, 477,\n",
       "       527, 508, 481, 506, 466, 484, 484, 492, 511, 519, 494, 508, 484,\n",
       "       525, 474, 524, 497, 505, 495, 515, 521, 502, 486, 491, 505, 491,\n",
       "       513, 506, 500, 495, 511, 477, 500, 491, 508, 506, 508, 493, 494,\n",
       "       513, 495, 513, 476, 495, 501, 514, 495, 549, 495, 483, 491, 508,\n",
       "       505, 520, 525, 512, 521, 467, 520, 506, 499, 494, 493, 510, 480,\n",
       "       506, 484, 511, 499, 497, 508, 516, 504, 509, 496, 503, 505, 502,\n",
       "       506, 531, 487, 507, 496, 512, 492, 491, 525, 496, 508, 488, 504,\n",
       "       485, 477, 507, 492, 491, 495, 514, 462, 479, 523, 518, 458, 490,\n",
       "       472, 452, 507, 492, 496, 496, 506, 504, 490, 496, 499, 509, 503,\n",
       "       499, 508, 476, 512, 507, 502, 504, 490, 520, 532, 490, 504, 506,\n",
       "       493, 481, 495, 525, 481, 500, 524, 494, 505, 493, 522, 517, 509,\n",
       "       494, 496, 491, 477, 502, 511, 503, 484, 501, 503, 511, 504, 518,\n",
       "       493, 503, 498, 517, 486, 501, 492, 513, 505, 505, 524, 502, 518,\n",
       "       493, 486, 514, 456, 491, 484, 483, 501, 489, 483, 526, 518, 504,\n",
       "       494, 527, 503, 502, 492, 505, 494, 525, 505, 517, 498, 489, 482,\n",
       "       482, 482, 522, 506, 522, 502, 496, 512, 509, 508, 508, 480, 504,\n",
       "       515, 477, 532, 522, 488, 498, 488, 496, 485, 480, 486, 510, 498,\n",
       "       509, 499, 497, 513, 509, 478, 518, 488, 495, 496, 519, 513, 491,\n",
       "       519, 484, 501, 499, 506, 518, 492, 498, 517, 501, 511, 491, 495,\n",
       "       505, 499, 510, 500, 501, 490, 470, 495, 501, 521, 494, 485, 483,\n",
       "       494, 476, 490, 516, 485, 486, 489, 478, 489, 492, 502, 473, 490,\n",
       "       508, 513, 473, 504, 509, 522, 486, 492, 504, 511, 506, 538, 470,\n",
       "       522, 496, 493, 523, 515, 544, 507, 506, 528, 511, 513, 495, 474,\n",
       "       488, 479, 530, 504, 499, 502, 493, 503, 490, 504, 483, 508, 497,\n",
       "       491, 512, 487, 495, 516, 532, 507, 506, 512, 511, 495, 513, 502,\n",
       "       508, 496, 484, 478, 497, 501, 525, 488, 504, 488, 489, 518, 472,\n",
       "       497, 500, 511, 536, 515, 507, 499, 494, 484, 475, 490, 471, 483,\n",
       "       499, 483, 494, 496, 496, 497, 493, 499, 474, 508, 515, 505, 479,\n",
       "       489, 468, 512, 489, 506, 484, 521, 467, 506, 493, 477, 495, 497,\n",
       "       505, 516, 492, 510, 532, 514, 494, 479, 469, 487, 489, 520, 532,\n",
       "       474, 490, 485, 490, 488, 526, 501, 493, 487, 485, 477, 498, 532,\n",
       "       484, 515, 545, 498, 517, 505, 495, 507, 515, 506, 528, 485, 484,\n",
       "       459, 482, 519, 490, 507, 470, 483, 492, 518, 506, 493, 524, 485,\n",
       "       490, 503, 499, 480, 505, 517, 509, 507, 496, 491, 518, 501, 497,\n",
       "       519, 500, 496, 505, 499, 509, 490, 530, 497, 504, 528, 510, 497,\n",
       "       513, 517, 493, 487, 488, 520, 501, 490, 490, 505, 481, 486, 512,\n",
       "       533, 511, 493, 502, 510, 488, 524, 529, 476, 494, 533, 495, 515,\n",
       "       477, 525, 474, 495, 483, 510, 513, 477, 494, 519, 502, 501, 495,\n",
       "       482, 489, 489, 492, 514, 497, 511, 508, 529, 468, 477, 510, 501,\n",
       "       520, 516, 508, 524, 483, 523, 500, 529, 515, 508, 489, 500, 500,\n",
       "       479, 486, 495, 494, 512, 503, 467, 506, 511, 469, 503, 523, 490,\n",
       "       480, 480, 484, 491, 488, 492, 495, 477, 502, 487, 500, 498, 483,\n",
       "       489, 496, 477, 502, 508, 473, 524, 497, 508, 551, 489, 503])"
      ]
     },
     "execution_count": 8,
     "metadata": {},
     "output_type": "execute_result"
    }
   ],
   "source": [
    "#if we care to see the outcomes...\n",
    "s"
   ]
  },
  {
   "cell_type": "markdown",
   "metadata": {},
   "source": [
    "# Task 3\n",
    "## Produce a scatterplot of y = 0.5*x+e where x has gaussian (0, 5) and e has gaussian (0, 1) distributions \n",
    "### use numpy.random.normal to generate gaussian distribution"
   ]
  },
  {
   "cell_type": "code",
   "execution_count": 9,
   "metadata": {},
   "outputs": [
    {
     "data": {
      "image/png": "[encoded data removed]",
      "text/plain": [
       "<Figure size 432x288 with 1 Axes>"
      ]
     },
     "metadata": {
      "needs_background": "light"
     },
     "output_type": "display_data"
    }
   ],
   "source": [
    "#code adapted from https://numpy.org/doc/stable/reference/random/generated/numpy.random.normal.html\n",
    "# & https://matplotlib.org/stable/gallery/shapes_and_collections/scatter.html\n",
    "\n",
    "# Fixing a random state for reproducibility\n",
    "np.random.seed(2022)\n",
    "\n",
    "x = np.random.normal(0,5,1000)\n",
    "e = np.random.normal(0,1,1000)\n",
    "\n",
    "fig = plt.scatter(x,0.5*x+e)\n",
    "plt.xlabel('x')\n",
    "plt.ylabel('y')\n",
    "plt.title('y=0.5x+e')\n",
    "plt.show()"
   ]
  }
 ],
 "metadata": {
  "kernelspec": {
   "display_name": "Python 3 (ipykernel)",
   "language": "python",
   "name": "python3"
  },
  "language_info": {
   "codemirror_mode": {
    "name": "ipython",
    "version": 3
   },
   "file_extension": ".py",
   "mimetype": "text/x-python",
   "name": "python",
   "nbconvert_exporter": "python",
   "pygments_lexer": "ipython3",
   "version": "3.8.10"
  }
 },
 "nbformat": 4,
 "nbformat_minor": 1
}
